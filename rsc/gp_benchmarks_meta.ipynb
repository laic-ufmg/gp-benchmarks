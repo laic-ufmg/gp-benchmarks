{
 "cells": [
  {
   "cell_type": "code",
   "execution_count": 1,
   "metadata": {
    "ExecuteTime": {
     "end_time": "2018-03-05T15:18:05.040090Z",
     "start_time": "2018-03-05T15:18:02.044125Z"
    }
   },
   "outputs": [],
   "source": [
    "import pandas as pd\n",
    "import numpy as np\n",
    "import random\n",
    "\n"
   ]
  },
  {
   "cell_type": "markdown",
   "metadata": {},
   "source": [
    "# Analysis pre-running\n",
    "## Comparing function times (used by GP)\n",
    "Just to have an idea of the time spent by functions (from a possible function set) inside GP. Notice that we analyzed the functions as they are implemented by `gplearn`."
   ]
  },
  {
   "cell_type": "code",
   "execution_count": 2,
   "metadata": {
    "ExecuteTime": {
     "end_time": "2018-03-08T17:00:38.030313Z",
     "start_time": "2018-03-08T17:00:36.014515Z"
    }
   },
   "outputs": [
    {
     "name": "stdout",
     "output_type": "stream",
     "text": [
      "Sin time:        0.2111\n",
      "Cos time:        0.2360\n",
      "Log time:        0.6884\n",
      "Sqrt time:       0.0874\n",
      "Prot. div time:  0.3855\n",
      "AQ time:         0.2070\n",
      "Mul time:        0.0485\n",
      "Sub time:        0.0494\n",
      "Add time:        0.0468\n"
     ]
    }
   ],
   "source": [
    "import timeit\n",
    "fmt = \"{:<17}{:.4f}\"\n",
    "print(fmt.format(\"Sin time:\",\n",
    "                 timeit.timeit(stmt=\"[np.sin(x) for x in X]\", \n",
    "                                      setup=\"import numpy as np;\"\n",
    "                                      \"X = np.random.rand(1,1000)\", \n",
    "                                      number = 10000)))\n",
    "print(fmt.format(\"Cos time:\", \n",
    "                 timeit.timeit(stmt=\"[np.cos(x) for x in X]\", \n",
    "                                      setup=\"import numpy as np;\"\n",
    "                                      \"X = np.random.rand(1,1000)\", \n",
    "                                      number = 10000)))\n",
    "print(fmt.format(\"Log time:\", \n",
    "                 timeit.timeit(stmt=\"[_protected_log(x) for x in X]\", \n",
    "                                      setup=\"from gplearn.functions import _protected_log;\"\n",
    "                                      \"import numpy as np;\"\n",
    "                                      \"X = np.random.rand(1,1000)\", \n",
    "                                      number = 10000)))\n",
    "print(fmt.format(\"Sqrt time:\", \n",
    "                 timeit.timeit(stmt=\"[_protected_sqrt(x) for x in X]\", \n",
    "                                      setup=\"from gplearn.functions import _protected_sqrt;\"\n",
    "                                      \"import numpy as np;\"\n",
    "                                      \"X = np.random.rand(1,1000)\", \n",
    "                                      number = 10000)))\n",
    "print(fmt.format(\"Prot. div time:\", \n",
    "                 timeit.timeit(stmt=\"[_protected_division(x,y) for x,y in zip(X,Y)]\", \n",
    "                                      setup=\"from gplearn.functions import _protected_division;\"\n",
    "                                      \"import numpy as np;\"\n",
    "                                      \"X = np.random.rand(1,1000);\"\n",
    "                                      \"Y = np.random.rand(1,1000);\", \n",
    "                                      number = 10000)))\n",
    "print(fmt.format(\"AQ time:\", \n",
    "                 timeit.timeit(stmt=\"[np.divide(x, np.sqrt(1+y**2)) for x,y in zip(X,Y)]\", \n",
    "                                      setup=\"from gplearn.functions import _protected_division;\"\n",
    "                                      \"import numpy as np;\"\n",
    "                                      \"X = np.random.rand(1,1000);\"\n",
    "                                      \"Y = np.random.rand(1,1000);\", \n",
    "                                      number = 10000)))\n",
    "print(fmt.format(\"Mul time:\", \n",
    "                 timeit.timeit(stmt=\"[np.multiply(x,y) for x,y in zip(X,Y)]\", \n",
    "                                      setup=\"import numpy as np;\"\n",
    "                                      \"X = np.random.rand(1,1000);\"\n",
    "                                      \"Y = np.random.rand(1,1000);\", \n",
    "                                      number = 10000)))\n",
    "print(fmt.format(\"Sub time:\", \n",
    "                 timeit.timeit(stmt=\"[np.subtract(x,y) for x,y in zip(X,Y)]\", \n",
    "                                      setup=\"import numpy as np;\"\n",
    "                                      \"X = np.random.rand(1,1000);\"\n",
    "                                      \"Y = np.random.rand(1,1000);\", \n",
    "                                      number = 10000)))\n",
    "print(fmt.format(\"Add time:\",\n",
    "                 timeit.timeit(stmt=\"[np.add(x,y) for x,y in zip(X,Y)]\", \n",
    "                                      setup=\"import numpy as np;\"\n",
    "                                      \"X = np.random.rand(1,1000);\"\n",
    "                                      \"Y = np.random.rand(1,1000);\", \n",
    "                                      number = 10000)))"
   ]
  },
  {
   "cell_type": "code",
   "execution_count": 81,
   "metadata": {
    "ExecuteTime": {
     "end_time": "2018-03-05T17:14:12.840585Z",
     "start_time": "2018-03-05T17:14:12.786278Z"
    }
   },
   "outputs": [],
   "source": [
    "def synthetic_gen(rnd, function, training_gen, test_gen=None):\n",
    "    training_set = []\n",
    "    test_set = []\n",
    "    if not test_gen:\n",
    "        test_gen = training_gen\n",
    "    for i in range(training_gen.n):\n",
    "        inst = training_gen.generate(rnd)\n",
    "        training_set.append(inst + [function(*inst)])\n",
    "    for i in range(test_gen.n):\n",
    "        inst = test_gen.generate(rnd)\n",
    "        test_set.append(inst + [function(*inst)])\n",
    "    return [training_set, test_set]\n",
    "\n",
    "class U:\n",
    "    def __init__(self, ini, end, n, dim=1):\n",
    "        self.ini = ini\n",
    "        self.end = end\n",
    "        self.n = n\n",
    "        self.dim = 1\n",
    "    \n",
    "    def generate(self, rnd):\n",
    "        return [rnd.uniform(self.ini, self.end) for i in range(self.dim)]\n",
    "    "
   ]
  },
  {
   "cell_type": "code",
   "execution_count": 82,
   "metadata": {
    "ExecuteTime": {
     "end_time": "2018-03-05T17:14:14.185401Z",
     "start_time": "2018-03-05T17:14:14.160592Z"
    }
   },
   "outputs": [
    {
     "ename": "TypeError",
     "evalue": "<lambda>() missing 1 required positional argument: 'x_2'",
     "output_type": "error",
     "traceback": [
      "\u001b[0;31m----------------------------------------------------------------------\u001b[0m",
      "\u001b[0;31mTypeError\u001b[0m                            Traceback (most recent call last)",
      "\u001b[0;32m<ipython-input-82-6f926ba9cef4>\u001b[0m in \u001b[0;36m<module>\u001b[0;34m()\u001b[0m\n\u001b[1;32m      4\u001b[0m data_gen = {\"Meier-3\": synthetic_gen(rnd, \n\u001b[1;32m      5\u001b[0m                                      \u001b[0;32mlambda\u001b[0m \u001b[0mx_1\u001b[0m\u001b[0;34m,\u001b[0m\u001b[0mx_2\u001b[0m\u001b[0;34m:\u001b[0m \u001b[0;34m(\u001b[0m\u001b[0mx_1\u001b[0m\u001b[0;34m**\u001b[0m\u001b[0;36m2\u001b[0m\u001b[0;34m*\u001b[0m\u001b[0mx_2\u001b[0m\u001b[0;34m**\u001b[0m\u001b[0;36m2\u001b[0m\u001b[0;34m)\u001b[0m\u001b[0;34m/\u001b[0m\u001b[0;34m(\u001b[0m\u001b[0mx_1\u001b[0m\u001b[0;34m+\u001b[0m\u001b[0mx_2\u001b[0m\u001b[0;34m)\u001b[0m\u001b[0;34m,\u001b[0m\u001b[0;34m\u001b[0m\u001b[0m\n\u001b[0;32m----> 6\u001b[0;31m                                      U(-1, 1, 50, 2)),\n\u001b[0m\u001b[1;32m      7\u001b[0m            }#\"Meier-4\": meier_4(rnd)\n",
      "\u001b[0;32m<ipython-input-81-180fd01e5fd2>\u001b[0m in \u001b[0;36msynthetic_gen\u001b[0;34m(rnd, function, training_gen, test_gen)\u001b[0m\n\u001b[1;32m      6\u001b[0m     \u001b[0;32mfor\u001b[0m \u001b[0mi\u001b[0m \u001b[0;32min\u001b[0m \u001b[0mrange\u001b[0m\u001b[0;34m(\u001b[0m\u001b[0mtraining_gen\u001b[0m\u001b[0;34m.\u001b[0m\u001b[0mn\u001b[0m\u001b[0;34m)\u001b[0m\u001b[0;34m:\u001b[0m\u001b[0;34m\u001b[0m\u001b[0m\n\u001b[1;32m      7\u001b[0m         \u001b[0minst\u001b[0m \u001b[0;34m=\u001b[0m \u001b[0mtraining_gen\u001b[0m\u001b[0;34m.\u001b[0m\u001b[0mgenerate\u001b[0m\u001b[0;34m(\u001b[0m\u001b[0mrnd\u001b[0m\u001b[0;34m)\u001b[0m\u001b[0;34m\u001b[0m\u001b[0m\n\u001b[0;32m----> 8\u001b[0;31m         \u001b[0mtraining_set\u001b[0m\u001b[0;34m.\u001b[0m\u001b[0mappend\u001b[0m\u001b[0;34m(\u001b[0m\u001b[0minst\u001b[0m \u001b[0;34m+\u001b[0m \u001b[0;34m[\u001b[0m\u001b[0mfunction\u001b[0m\u001b[0;34m(\u001b[0m\u001b[0;34m*\u001b[0m\u001b[0minst\u001b[0m\u001b[0;34m)\u001b[0m\u001b[0;34m]\u001b[0m\u001b[0;34m)\u001b[0m\u001b[0;34m\u001b[0m\u001b[0m\n\u001b[0m\u001b[1;32m      9\u001b[0m     \u001b[0;32mfor\u001b[0m \u001b[0mi\u001b[0m \u001b[0;32min\u001b[0m \u001b[0mrange\u001b[0m\u001b[0;34m(\u001b[0m\u001b[0mtest_gen\u001b[0m\u001b[0;34m.\u001b[0m\u001b[0mn\u001b[0m\u001b[0;34m)\u001b[0m\u001b[0;34m:\u001b[0m\u001b[0;34m\u001b[0m\u001b[0m\n\u001b[1;32m     10\u001b[0m         \u001b[0minst\u001b[0m \u001b[0;34m=\u001b[0m \u001b[0mtest_gen\u001b[0m\u001b[0;34m.\u001b[0m\u001b[0mgenerate\u001b[0m\u001b[0;34m(\u001b[0m\u001b[0mrnd\u001b[0m\u001b[0;34m)\u001b[0m\u001b[0;34m\u001b[0m\u001b[0m\n",
      "\u001b[0;31mTypeError\u001b[0m: <lambda>() missing 1 required positional argument: 'x_2'"
     ]
    }
   ],
   "source": [
    "seed = 1234\n",
    "rnd = random.Random(seed)\n",
    "\n",
    "data_gen = {\"Meier-3\": synthetic_gen(rnd, \n",
    "                                     lambda x_1,x_2: (x_1**2*x_2**2)/(x_1+x_2), \n",
    "                                     U(-1, 1, 50, 2)),\n",
    "           }#\"Meier-4\": meier_4(rnd)\n"
   ]
  },
  {
   "cell_type": "code",
   "execution_count": null,
   "metadata": {},
   "outputs": [],
   "source": [
    "Nonic\n",
    "Sine\n",
    "Burks\n",
    "R1\n",
    "R2\n",
    "R3\n",
    "Sext\n",
    "Koza-2\n",
    "Koza-3\n",
    "Poly-10\n",
    "Korns-1\n",
    "Korns-2\n",
    "Korns-3\n",
    "Korns-4\n",
    "Korns-5\n",
    "Korns-6\n",
    "Korns-7\n",
    "Korns-8\n",
    "Korns-9\n",
    "Korns-10\n",
    "Korns-11\n",
    "Korns-12\n",
    "Vladislavleva-1 (Vlad1)\n",
    "Vladislavleva-2 (Vlad2)\n",
    "Vladislavleva-3 (Vlad3)\n",
    "Vladislavleva-4 (Uball5D)\n",
    "Vladislavleva-5 (Vlad5)\n",
    "Vladislavleva-6 (Vlad6)\n",
    "Vladislavleva-7 (Vlad7)\n",
    "Vladislavleva-8 (Vlad8)\n",
    "Pagie-1\n",
    "Keijzer-1\n",
    "Keijzer-2\n",
    "Keijzer-3\n",
    "Keijzer-4\n",
    "Keijzer-5\n",
    "Keijzer-6\n",
    "Keijzer-7\n",
    "Keijzer-8\n",
    "Keijzer-9\n",
    "Keijzer-10\n",
    "Keijzer-11\n",
    "Keijzer-12\n",
    "Keijzer-13\n",
    "Keijzer-14\n",
    "Keijzer-15\n",
    "Nguyen-1\n",
    "Nguyen-2\n",
    "Nguyen-3\n",
    "Nguyen-4\n",
    "Nguyen-5\n",
    "Nguyen-6\n",
    "Nguyen-7\n",
    "Nguyen-8\n",
    "Nguyen-9\n",
    "Nguyen-10\n",
    "Nguyen-12\n",
    "\n",
    "    "
   ]
  }
 ],
 "metadata": {
  "kernelspec": {
   "display_name": "Python 3",
   "language": "python",
   "name": "python3"
  },
  "language_info": {
   "codemirror_mode": {
    "name": "ipython",
    "version": 3
   },
   "file_extension": ".py",
   "mimetype": "text/x-python",
   "name": "python",
   "nbconvert_exporter": "python",
   "pygments_lexer": "ipython3",
   "version": "3.5.2"
  },
  "toc": {
   "nav_menu": {},
   "number_sections": true,
   "sideBar": true,
   "skip_h1_title": false,
   "title_cell": "Table of Contents",
   "title_sidebar": "Contents",
   "toc_cell": false,
   "toc_position": {},
   "toc_section_display": true,
   "toc_window_display": false
  },
  "varInspector": {
   "cols": {
    "lenName": 16,
    "lenType": 16,
    "lenVar": 40
   },
   "kernels_config": {
    "python": {
     "delete_cmd_postfix": "",
     "delete_cmd_prefix": "del ",
     "library": "var_list.py",
     "varRefreshCmd": "print(var_dic_list())"
    },
    "r": {
     "delete_cmd_postfix": ") ",
     "delete_cmd_prefix": "rm(",
     "library": "var_list.r",
     "varRefreshCmd": "cat(var_dic_list()) "
    }
   },
   "types_to_exclude": [
    "module",
    "function",
    "builtin_function_or_method",
    "instance",
    "_Feature"
   ],
   "window_display": false
  }
 },
 "nbformat": 4,
 "nbformat_minor": 2
}
